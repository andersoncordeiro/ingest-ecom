{
 "cells": [],
 "metadata": {
  "kernelspec": {
   "display_name": ".ingest-ecom",
   "language": "python",
   "name": "python3"
  },
  "language_info": {
   "codemirror_mode": {
    "name": "ipython",
    "version": 3
   },
   "file_extension": ".py",
   "mimetype": "text/x-python",
   "name": "python",
   "nbconvert_exporter": "python",
   "pygments_lexer": "ipython3",
   "version": "3.10.8 (main, Oct 12 2022, 19:14:09) [GCC 7.5.0]"
  },
  "orig_nbformat": 4,
  "vscode": {
   "interpreter": {
    "hash": "3dce21eeba7f811a1b02247c1f9de790be4a61d028170c36a375e125e7653dbc"
   }
  }
 },
 "nbformat": 4,
 "nbformat_minor": 2
}
