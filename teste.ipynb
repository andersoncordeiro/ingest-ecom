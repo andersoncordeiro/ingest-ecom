{
 "cells": [
  {
   "cell_type": "code",
   "execution_count": 1,
   "metadata": {},
   "outputs": [],
   "source": [
    "import pandas as pd\n",
    "import os\n",
    "from tqdm import tqdm\n",
    "from sqlalchemy import create_engine\n",
    "from sqlalchemy_utils import database_exists, create_database\n",
    "from decouple import config"
   ]
  },
  {
   "cell_type": "code",
   "execution_count": 7,
   "metadata": {},
   "outputs": [
    {
     "name": "stderr",
     "output_type": "stream",
     "text": [
      "UsageError: Line magic function `%%sql` not found.\n"
     ]
    }
   ],
   "source": [
    "# Credenciais do database (NÃO ALTERAR ESSES CAMPOS)\n",
    "senha = 'pyratalb!#2'\n",
    "host = 'db.nyllormkpuuecgvnfloa.supabase.co'\n",
    "porta = 5432\n",
    "database = 'marketplace'\n",
    "\n",
    "# Conectando ao servidor PostgreSQL\n",
    "conn_string = f\"postgresql://postgres:{senha}@{host}:{porta}/{database}\"\n",
    "engine = create_engine(conn_string)\n"
   ]
  }
 ],
 "metadata": {
  "kernelspec": {
   "display_name": ".ingest-ecom",
   "language": "python",
   "name": "python3"
  },
  "language_info": {
   "codemirror_mode": {
    "name": "ipython",
    "version": 3
   },
   "file_extension": ".py",
   "mimetype": "text/x-python",
   "name": "python",
   "nbconvert_exporter": "python",
   "pygments_lexer": "ipython3",
   "version": "3.10.8"
  },
  "orig_nbformat": 4,
  "vscode": {
   "interpreter": {
    "hash": "3dce21eeba7f811a1b02247c1f9de790be4a61d028170c36a375e125e7653dbc"
   }
  }
 },
 "nbformat": 4,
 "nbformat_minor": 2
}
