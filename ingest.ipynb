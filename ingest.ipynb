{
 "cells": [
  {
   "cell_type": "code",
   "execution_count": 9,
   "metadata": {},
   "outputs": [],
   "source": [
    "from sqlalchemy import create_engine\n",
    "from decouple import config\n",
    "\n",
    "HOST     = config('HOST')\n",
    "DATABASE = config('DATABASE')\n",
    "USER     = config('USER')\n",
    "PASSWORD = config('PASSWORD')\n",
    "PORT     = config('PORT')\n",
    "\n",
    "\n",
    "string_conexao = f'postgresql://{USER}:{PASSWORD}@{HOST}:{PORT}/{DATABASE}'\n",
    "conn_olist = create_engine(string_conexao)"
   ]
  },
  {
   "cell_type": "code",
   "execution_count": null,
   "metadata": {},
   "outputs": [],
   "source": []
  }
 ],
 "metadata": {
  "kernelspec": {
   "display_name": ".ingest-ecom",
   "language": "python",
   "name": "python3"
  },
  "language_info": {
   "codemirror_mode": {
    "name": "ipython",
    "version": 3
   },
   "file_extension": ".py",
   "mimetype": "text/x-python",
   "name": "python",
   "nbconvert_exporter": "python",
   "pygments_lexer": "ipython3",
   "version": "3.10.8"
  },
  "orig_nbformat": 4,
  "vscode": {
   "interpreter": {
    "hash": "3dce21eeba7f811a1b02247c1f9de790be4a61d028170c36a375e125e7653dbc"
   }
  }
 },
 "nbformat": 4,
 "nbformat_minor": 2
}
